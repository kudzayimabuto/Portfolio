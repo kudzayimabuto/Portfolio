{
 "cells": [
  {
   "cell_type": "code",
   "execution_count": 1,
   "metadata": {},
   "outputs": [],
   "source": [
    "import pandas as pd\n",
    "df = pd.read_csv(\"/Users/kudzayimabuto/Downloads/benchmarking_20212_benchmarking_result2_description_diversity_tableau.csv\", sep = '\\t')\n",
    "df1 = pd.read_csv(\"/Users/kudzayimabuto/Downloads/benchmarking_20211_benchmarking_result2_description_diversity_tableau.csv\", sep = '\\t')\n"
   ]
  },
  {
   "cell_type": "code",
   "execution_count": null,
   "metadata": {},
   "outputs": [],
   "source": []
  },
  {
   "cell_type": "code",
   "execution_count": 9,
   "metadata": {},
   "outputs": [
    {
     "data": {
      "text/html": [
       "<div>\n",
       "<style scoped>\n",
       "    .dataframe tbody tr th:only-of-type {\n",
       "        vertical-align: middle;\n",
       "    }\n",
       "\n",
       "    .dataframe tbody tr th {\n",
       "        vertical-align: top;\n",
       "    }\n",
       "\n",
       "    .dataframe thead th {\n",
       "        text-align: right;\n",
       "    }\n",
       "</style>\n",
       "<table border=\"1\" class=\"dataframe\">\n",
       "  <thead>\n",
       "    <tr style=\"text-align: right;\">\n",
       "      <th></th>\n",
       "      <th>CampaignName</th>\n",
       "      <th>PrimaryPromoMethod</th>\n",
       "      <th>PcRevFromMethodCamp</th>\n",
       "      <th>PcRevFromMethodCat</th>\n",
       "    </tr>\n",
       "  </thead>\n",
       "  <tbody>\n",
       "    <tr>\n",
       "      <th>3557</th>\n",
       "      <td>eFollett</td>\n",
       "      <td>COMBINED_OTHER</td>\n",
       "      <td>0.000114</td>\n",
       "      <td>0.024205</td>\n",
       "    </tr>\n",
       "    <tr>\n",
       "      <th>3558</th>\n",
       "      <td>eFollett</td>\n",
       "      <td>COUPON</td>\n",
       "      <td>0.562360</td>\n",
       "      <td>0.046731</td>\n",
       "    </tr>\n",
       "    <tr>\n",
       "      <th>3559</th>\n",
       "      <td>eFollett</td>\n",
       "      <td>LOYALTY</td>\n",
       "      <td>0.126244</td>\n",
       "      <td>0.084852</td>\n",
       "    </tr>\n",
       "    <tr>\n",
       "      <th>3560</th>\n",
       "      <td>eFollett</td>\n",
       "      <td>UNCATEGORIZED</td>\n",
       "      <td>0.311282</td>\n",
       "      <td>0.747653</td>\n",
       "    </tr>\n",
       "    <tr>\n",
       "      <th>13784</th>\n",
       "      <td>eFollett</td>\n",
       "      <td>CPA_NETWORK</td>\n",
       "      <td>0.000000</td>\n",
       "      <td>NaN</td>\n",
       "    </tr>\n",
       "    <tr>\n",
       "      <th>13787</th>\n",
       "      <td>eFollett</td>\n",
       "      <td>CONTENT</td>\n",
       "      <td>0.000000</td>\n",
       "      <td>NaN</td>\n",
       "    </tr>\n",
       "    <tr>\n",
       "      <th>13790</th>\n",
       "      <td>eFollett</td>\n",
       "      <td>SOCIAL_MEDIA_INFLUENCER</td>\n",
       "      <td>0.000000</td>\n",
       "      <td>NaN</td>\n",
       "    </tr>\n",
       "  </tbody>\n",
       "</table>\n",
       "</div>"
      ],
      "text/plain": [
       "      CampaignName       PrimaryPromoMethod  PcRevFromMethodCamp  \\\n",
       "3557      eFollett           COMBINED_OTHER             0.000114   \n",
       "3558      eFollett                   COUPON             0.562360   \n",
       "3559      eFollett                  LOYALTY             0.126244   \n",
       "3560      eFollett            UNCATEGORIZED             0.311282   \n",
       "13784     eFollett              CPA_NETWORK             0.000000   \n",
       "13787     eFollett                  CONTENT             0.000000   \n",
       "13790     eFollett  SOCIAL_MEDIA_INFLUENCER             0.000000   \n",
       "\n",
       "       PcRevFromMethodCat  \n",
       "3557             0.024205  \n",
       "3558             0.046731  \n",
       "3559             0.084852  \n",
       "3560             0.747653  \n",
       "13784                 NaN  \n",
       "13787                 NaN  \n",
       "13790                 NaN  "
      ]
     },
     "execution_count": 9,
     "metadata": {},
     "output_type": "execute_result"
    }
   ],
   "source": [
    "df[df['CampaignId']==2379][['CampaignName','PrimaryPromoMethod','PcRevFromMethodCamp','PcRevFromMethodCat']]"
   ]
  },
  {
   "cell_type": "code",
   "execution_count": null,
   "metadata": {},
   "outputs": [],
   "source": []
  },
  {
   "cell_type": "code",
   "execution_count": null,
   "metadata": {},
   "outputs": [],
   "source": []
  },
  {
   "cell_type": "code",
   "execution_count": 17,
   "metadata": {},
   "outputs": [],
   "source": [
    "df = df[['CatSuper', 'CatPrime', 'Region', 'AdvertiserId', 'AdvertiserName',\n",
    "       'CampaignId', 'CampaignName', 'PrimaryPromoMethod', 'ActionsPub',\n",
    "       'RevenuePub', 'CommissionPub', 'UniqueClicksPub', 'PcActFromMethodCamp',\n",
    "       'PcRevFromMethodCamp', 'PcComFromMethodCamp', 'PcClicksFromMethodCamp',\n",
    "       'PcActFromMethodCat', 'PcRevFromMethodCat', 'PcComFromMethodCat',\n",
    "       'PcClicksFromMethodCat']]"
   ]
  },
  {
   "cell_type": "code",
   "execution_count": null,
   "metadata": {},
   "outputs": [],
   "source": []
  },
  {
   "cell_type": "code",
   "execution_count": 21,
   "metadata": {},
   "outputs": [],
   "source": [
    "df.to_csv(\"/Users/kudzayimabuto/Downloads/benchmarking_20212_benchmarking_result2_description_diversity_tableau.csv\")"
   ]
  },
  {
   "cell_type": "code",
   "execution_count": null,
   "metadata": {},
   "outputs": [],
   "source": []
  },
  {
   "cell_type": "code",
   "execution_count": null,
   "metadata": {},
   "outputs": [],
   "source": [
    "import pyautogui\n",
    "while True :\n",
    "    pyautogui.moveRel(0, 50, duration = 1)\n",
    "    pyautogui.moveRel(0, -50, duration = 1)"
   ]
  },
  {
   "cell_type": "code",
   "execution_count": null,
   "metadata": {},
   "outputs": [],
   "source": []
  },
  {
   "cell_type": "code",
   "execution_count": null,
   "metadata": {},
   "outputs": [],
   "source": []
  },
  {
   "cell_type": "code",
   "execution_count": null,
   "metadata": {},
   "outputs": [],
   "source": []
  },
  {
   "cell_type": "code",
   "execution_count": null,
   "metadata": {},
   "outputs": [],
   "source": []
  }
 ],
 "metadata": {
  "kernelspec": {
   "display_name": "Python 3",
   "language": "python",
   "name": "python3"
  },
  "language_info": {
   "codemirror_mode": {
    "name": "ipython",
    "version": 3
   },
   "file_extension": ".py",
   "mimetype": "text/x-python",
   "name": "python",
   "nbconvert_exporter": "python",
   "pygments_lexer": "ipython3",
   "version": "3.8.2"
  }
 },
 "nbformat": 4,
 "nbformat_minor": 4
}
